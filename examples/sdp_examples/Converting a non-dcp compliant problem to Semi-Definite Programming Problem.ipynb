{
 "cells": [
  {
   "cell_type": "markdown",
   "metadata": {},
   "source": [
    "#  Non-DCP Compliant Problem to Semi-Definite Programming Problem \n",
    "\n",
    "Let us Consider the problem\n",
    "\n",
    "minimize $\\frac{(c^T x)^2}{d^Tx}$\n",
    "\n",
    "subject to Ax +b$\\geq$ 0\n",
    "\n",
    "It is assumed that $d^Tx$>0 whenever Ax+b$\\geq$ 0\n",
    "\n",
    "**It is very easy to observe that the objective function is neither concave nor convex and hence it is not dcp compliant problem.**"
   ]
  },
  {
   "cell_type": "code",
   "execution_count": 12,
   "metadata": {
    "collapsed": false
   },
   "outputs": [
    {
     "ename": "LoadError",
     "evalue": "LoadError: UndefVarError: square not defined\nwhile loading In[12], in expression starting on line 6",
     "output_type": "error",
     "traceback": [
      "LoadError: UndefVarError: square not defined\nwhile loading In[12], in expression starting on line 6",
      ""
     ]
    }
   ],
   "source": [
    "using Convex\n",
    "n = 4;\n",
    "x = Variable(n);\n",
    "c = randn(n);\n",
    "d = randn(n);\n",
    "exp = square(c'*x)/d'*x"
   ]
  },
  {
   "cell_type": "markdown",
   "metadata": {},
   "source": [
    "** exp = square(c'*x)/d'*x **    \n",
    "\n",
    ">WARNING: Expression not DCP compliant. Trying to solve non-DCP compliant problems can lead to unexpected behavior.\n",
    "\n",
    ">AbstractExpr with\n",
    "\n",
    ">head: *\n",
    "\n",
    ">size: (1, 1)\n",
    "\n",
    ">sign: Convex.NoSign()\n",
    "\n",
    ">vexity: Convex.NotDcp()\n",
    "\n",
    "\n",
    "\n",
    "\n",
    "## Equivalent SDP\n",
    "\n",
    "The above problem can be converted to a dcp-compliant problem by introducing a new variable $t \\in \\mathbf{R}$\n",
    "\n",
    "As a result of the above step, we can define a matrix $D$ as follows:\n",
    "\n",
    "$D=\\left[\\begin{array}{cc}t&c^Tx\\\\c^Tx&d^Tx\\end{array}\\right]$\n",
    "\n",
    "Now, using the theory of Schur Complements we can show that $D \\succeq 0$ (i.e is D is positive semi-definite matrix)\n",
    "\n",
    "Hence, the The semidefinite program associated with this problem is:\n",
    "\n",
    "**minimize t**\n",
    "\n",
    "subject to \n",
    "\n",
    "$\\left[\\begin{array}{ccc}\\textbf{diag}(Ax+b)&0&0\\\\0&t&c^Tx\\\\0&c^Tx&d^Tx\\end{array}\\right] \\succeq 0$"
   ]
  },
  {
   "cell_type": "code",
   "execution_count": null,
   "metadata": {
    "collapsed": true
   },
   "outputs": [],
   "source": [
    "using SCS     # The solver by default uses SCS solver and install it  Pkg.add(\"SCS\") \n",
    "n = 4; #Set the size of vector x\n",
    "x = Variable(n);\n",
    "t = Variable(1);\n",
    "\n",
    "sseed(0);  # Set the seed\n",
    "A = randn(n,n);\n",
    "b = randn(n);\n",
    "c = randn(n);\n",
    "d = randn(n);\n",
    "\n",
    "# Define the objective\n",
    "objective = t;\n",
    "#Define the constraints\n",
    "c1 = ([diag(A*x+b) 0 0;0 t c'*x;0 c'*x d'*x] in :SDP)    # used semicolon to bind the columns and form the above matrix\n",
    "\n",
    "p = minimize(objective,c1);\n",
    "solve!(p)\n",
    "t.value\n",
    "x.value\n",
    "p.optval\n",
    "println(\"The solution is $((c'*x.value)*(c'*x.value)/(d'*x.value))\")\n",
    "\n"
   ]
  }
 ],
 "metadata": {
  "anaconda-cloud": {},
  "kernelspec": {
   "display_name": "Julia 0.5.0-dev",
   "language": "julia",
   "name": "julia-0.5"
  },
  "language_info": {
   "file_extension": ".jl",
   "mimetype": "application/julia",
   "name": "julia",
   "version": "0.5.0"
  }
 },
 "nbformat": 4,
 "nbformat_minor": 0
}
