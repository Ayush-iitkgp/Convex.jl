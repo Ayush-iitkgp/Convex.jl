{
 "cells": [
  {
   "cell_type": "markdown",
   "metadata": {},
   "source": [
    "#  Non-DCP Compliant Problem to Semi-Definite Programming Problem \n",
    "\n",
    "Let us Consider the problem\n",
    "\n",
    "minimize $\\frac{(c^T x)^2}{d^Tx}$\n",
    "\n",
    "subject to Ax +b$\\geq$ 0\n",
    "\n",
    "It is assumed that $d^Tx$>0 whenever Ax+b$\\geq$ 0\n",
    "\n",
    "**It is very easy to observe that the objective function is neither concave nor convex and hence it is not dcp compliant problem.**"
   ]
  },
  {
   "cell_type": "code",
   "execution_count": 10,
   "metadata": {
    "collapsed": false
   },
   "outputs": [
    {
     "data": {
      "text/plain": [
       "AbstractExpr with\n",
       "head: *\n",
       "size: (1, 1)\n",
       "sign: Convex.NoSign()\n",
       "vexity: Convex.NotDcp()\n"
      ]
     },
     "execution_count": 10,
     "metadata": {},
     "output_type": "execute_result"
    },
    {
     "name": "stderr",
     "output_type": "stream",
     "text": [
      "WARNING: Expression not DCP compliant. Trying to solve non-DCP compliant problems can lead to unexpected behavior.\n",
      "WARNING: Expression not DCP compliant. Trying to solve non-DCP compliant problems can lead to unexpected behavior.\n"
     ]
    }
   ],
   "source": [
    "using Convex\n",
    "n = 4\n",
    "x = Variable(n)\n",
    "c = randn(n)\n",
    "d = randn(n)\n",
    "exp = square(c'*x)/d'*x"
   ]
  },
  {
   "cell_type": "markdown",
   "metadata": {},
   "source": [
    "## Equivalent SDP\n",
    "\n",
    "The above problem can be converted to a dcp-compliant problem by introducing a new variable $t \\in \\mathbf{R}$\n",
    "\n",
    "As a result of the above step, we can define a matrix $D$ as follows:\n",
    "\n",
    "$D=\\left[\\begin{array}{cc}t&c^Tx\\\\c^Tx&d^Tx\\end{array}\\right]$\n",
    "\n",
    "Now, using the theory of Schur Complements we can show that $D \\succeq 0$ (i.e is D is positive semi-definite matrix)\n",
    "\n",
    "Hence, the The semidefinite program associated with this problem is:\n",
    "\n",
    "**minimize t**\n",
    "\n",
    "subject to \n",
    "\n",
    "$\\left[\\begin{array}{ccc}\\textbf{diag}(Ax+b)&0&0\\\\0&t&c^Tx\\\\0&c^Tx&d^Tx\\end{array}\\right] \\succeq 0$"
   ]
  },
  {
   "cell_type": "code",
   "execution_count": 11,
   "metadata": {
    "collapsed": false
   },
   "outputs": [
    {
     "name": "stdout",
     "output_type": "stream",
     "text": [
      "----------------------------------------------------------------------------\n",
      "\tSCS v1.1.8 - Splitting Conic Solver\n",
      "\t(c) Brendan O'Donoghue, Stanford University, 2012-2015\n",
      "----------------------------------------------------------------------------\n",
      "Lin-sys: sparse-direct, nnz in A = 15\n",
      "eps = 1.00e-04, alpha = 1.80, max_iters = 20000, normalize = 1, scale = 5.00\n",
      "Variables n = 6, constraints m = 10\n",
      "Cones:\tprimal zero / dual free vars: 4\n",
      "\tsd vars: 6, sd blks: 1\n",
      "Setup time: 7.35e-05s\n",
      "----------------------------------------------------------------------------\n",
      " Iter | pri res | dua res | rel gap | pri obj | dua obj | kap/tau | time (s)\n",
      "----------------------------------------------------------------------------\n",
      "     0| 2.63e-02  1.03e+00  1.46e-02 -1.48e-02 -0.00e+00  6.22e-19  5.91e-05 \n",
      "    40| 1.90e-06  8.91e-05  1.44e-06 -1.44e-06 -0.00e+00  1.83e-18  5.36e-04 \n",
      "----------------------------------------------------------------------------\n",
      "Status: Solved\n",
      "Timing: Solve time: 5.38e-04s\n",
      "\tLin-sys: nnz in L factor: 34, avg solve time: 6.56e-07s\n",
      "\tCones: avg projection time: 1.07e-05s\n",
      "----------------------------------------------------------------------------\n",
      "Error metrics:\n",
      "dist(s, K) = 1.0724e-12, dist(y, K*) = 1.8630e-09, s'y/m = -1.1121e-13\n",
      "|Ax + s - b|_2 / (1 + |b|_2) = 1.8975e-06\n",
      "|A'y + c|_2 / (1 + |c|_2) = 8.9122e-05\n",
      "|c'x + b'y| / (1 + |c'x| + |b'y|) = 1.4369e-06\n",
      "----------------------------------------------------------------------------\n",
      "c'x = -0.0000, -b'y = -0.0000\n",
      "============================================================================\n"
     ]
    }
   ],
   "source": [
    "using SCS     # The solver by default uses SCS solver and install it  Pkg.add(\"SCS\") \n",
    "n = 4; #Set the size of vector x\n",
    "x = Variable(n);\n",
    "t = Variable(1);\n",
    "\n",
<<<<<<< HEAD
    "srand(0);  # Set the seed\n",
=======
>>>>>>> sdp_examples
    "A = randn(n,n);\n",
    "b = randn(n);\n",
    "c = randn(n);\n",
    "d = randn(n);\n",
    "\n",
    "# Define the objective\n",
    "objective = t;\n",
    "#Define the constraints\n",
    "c1 = ([diag(A*x+b) 0 0;0 t c'*x;0 c'*x d'*x] in :SDP)    # used semicolon to bind the columns and form the above matrix\n",
    "\n",
    "p = minimize(objective,c1);\n",
    "solve!(p)"
   ]
  },
  {
   "cell_type": "code",
   "execution_count": 9,
   "metadata": {
    "collapsed": false
   },
   "outputs": [
    {
     "name": "stdout",
     "output_type": "stream",
     "text": [
      "The solution is [4.73352e-19]\n"
     ]
    }
   ],
   "source": [
    "t.value\n",
    "x.value\n",
    "p.optval\n",
    "println(\"The solution is $((c'*x.value)*(c'*x.value)/(d'*x.value))\")"
   ]
  }
 ],
 "metadata": {
  "anaconda-cloud": {},
  "kernelspec": {
   "display_name": "Julia 0.5.0-dev",
   "language": "julia",
   "name": "julia-0.5"
  },
  "language_info": {
   "file_extension": ".jl",
   "mimetype": "application/julia",
   "name": "julia",
   "version": "0.5.0"
  }
 },
 "nbformat": 4,
 "nbformat_minor": 0
}
